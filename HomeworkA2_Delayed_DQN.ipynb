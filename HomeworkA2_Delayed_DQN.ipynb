{
 "cells": [
  {
   "cell_type": "code",
   "execution_count": 1,
   "id": "partial-portrait",
   "metadata": {},
   "outputs": [],
   "source": [
    "import os, sys, time, logging\n",
    "import numpy as np\n",
    "import seaborn as sns\n",
    "\n",
    "import tensorflow as tf\n",
    "from tensorflow.keras import Model\n",
    "\n",
    "import ray, gym\n",
    "from really import SampleManager\n",
    "from really.utils import (\n",
    "    dict_to_dict_of_datasets,\n",
    ")"
   ]
  },
  {
   "cell_type": "code",
   "execution_count": 2,
   "id": "manual-disclaimer",
   "metadata": {},
   "outputs": [],
   "source": [
    "#os.environ['TF_CPP_MIN_LOG_LEVEL'] = '3' \n",
    "tf.get_logger().setLevel(logging.ERROR)"
   ]
  },
  {
   "cell_type": "code",
   "execution_count": 3,
   "id": "opposite-ending",
   "metadata": {},
   "outputs": [],
   "source": [
    "class QNetwork(Model):\n",
    "    def __init__(self, \n",
    "                 input_shape=(4,), \n",
    "                 normalize_mean=None,\n",
    "                 normalize_sd=None,\n",
    "                 action_space=2):\n",
    "        super(QNetwork, self).__init__()\n",
    "        \n",
    "        if normalize_mean is not None:\n",
    "            assert normalize_sd is not None\n",
    "            assert normalize_sd.shape == input_shape\n",
    "            assert normalize_mean.shape == input_shape\n",
    "        self.normalize_mean = normalize_mean\n",
    "        self.normalize_sd = normalize_sd\n",
    "        \n",
    "        self.mlp = tf.keras.Sequential([\n",
    "            tf.keras.layers.Dense(16, \n",
    "                                  input_shape=input_shape, \n",
    "                                  activation='relu', \n",
    "                                  kernel_regularizer='l2'),\n",
    "            tf.keras.layers.Dense(16, \n",
    "                                  activation='relu', \n",
    "                                  kernel_regularizer='l2'),\n",
    "            tf.keras.layers.Dense(action_space, \n",
    "                                  activation='relu',\n",
    "                                  use_bias=False)\n",
    "        ])\n",
    "        \n",
    "    def call(self, x):\n",
    "        if self.normalize_mean is not None:\n",
    "            (x - self.normalize_mean) / self.normalize_sd\n",
    "        x = self.mlp(x)\n",
    "        return {\"q_values\": x}"
   ]
  },
  {
   "cell_type": "code",
   "execution_count": 4,
   "id": "blank-labor",
   "metadata": {},
   "outputs": [
    {
     "data": {
      "text/plain": [
       "<AxesSubplot:>"
      ]
     },
     "execution_count": 4,
     "metadata": {},
     "output_type": "execute_result"
    },
    {
     "data": {
      "image/png": "[encoded data removed]",
      "text/plain": [
       "<Figure size 432x288 with 1 Axes>"
      ]
     },
     "metadata": {
      "needs_background": "light"
     },
     "output_type": "display_data"
    }
   ],
   "source": [
    "temperature_decay = 0.9995\n",
    "_decay = lambda x,n: x * temperature_decay**n\n",
    "ns = np.arange(8000)\n",
    "temperature_init = 1.\n",
    "seq = [_decay(temperature_init, n) for n in ns]\n",
    "sns.lineplot(x=ns, y=seq)"
   ]
  },
  {
   "cell_type": "code",
   "execution_count": 5,
   "id": "excess-couple",
   "metadata": {},
   "outputs": [
    {
     "name": "stderr",
     "output_type": "stream",
     "text": [
      "2021-03-02 15:45:12,708\tINFO services.py:1172 -- View the Ray dashboard at \u001b[1m\u001b[32mhttp://127.0.0.1:8265\u001b[39m\u001b[22m\n"
     ]
    },
    {
     "data": {
      "text/plain": [
       "{'node_ip_address': '192.168.178.30',\n",
       " 'raylet_ip_address': '192.168.178.30',\n",
       " 'redis_address': '192.168.178.30:6379',\n",
       " 'object_store_address': '/tmp/ray/session_2021-03-02_15-45-12_220137_184459/sockets/plasma_store',\n",
       " 'raylet_socket_name': '/tmp/ray/session_2021-03-02_15-45-12_220137_184459/sockets/raylet',\n",
       " 'webui_url': '127.0.0.1:8265',\n",
       " 'session_dir': '/tmp/ray/session_2021-03-02_15-45-12_220137_184459',\n",
       " 'metrics_export_port': 64499,\n",
       " 'node_id': 'ee333bd1836d1a973bee79a790b0bc147430dc4a9e454653cf5fb5dc'}"
      ]
     },
     "execution_count": 5,
     "metadata": {},
     "output_type": "execute_result"
    }
   ],
   "source": [
    "ray.init(log_to_driver=False)"
   ]
  },
  {
   "cell_type": "code",
   "execution_count": 6,
   "id": "signal-nowhere",
   "metadata": {},
   "outputs": [],
   "source": [
    "env_id = \"CartPole-v1\"\n",
    "_env = gym.make(env_id)"
   ]
  },
  {
   "cell_type": "code",
   "execution_count": 7,
   "id": "numerous-forth",
   "metadata": {},
   "outputs": [
    {
     "name": "stdout",
     "output_type": "stream",
     "text": [
      "iteration: 0, storing results of 1 runners\n",
      "iteration: 1, storing results of 1 runners\n"
     ]
    }
   ],
   "source": [
    "model_kwargs = {\n",
    "    \"input_shape\": _env.observation_space.shape,\n",
    "    \"action_space\": _env.action_space.n,\n",
    "    \"normalize_mean\": np.zeros(_env.observation_space.shape),\n",
    "    \"normalize_sd\": np.ones(_env.observation_space.shape)\n",
    "}\n",
    "kwargs = {\n",
    "    \"model\": QNetwork,\n",
    "    \"environment\": env_id,\n",
    "    \"num_parallel\": 5,\n",
    "    \"total_steps\": 100,\n",
    "    \"num_episodes\": 20,\n",
    "    \"action_sampling_type\": \"thompson\",\n",
    "    \"temperature\": temperature_init,\n",
    "    \"model_kwargs\": model_kwargs\n",
    "}\n",
    "manager = SampleManager(**kwargs)\n",
    "\n",
    "# test\n",
    "data = manager.get_data(do_print=True, total_steps=1000)\n",
    "\n",
    "# use moving averages to normalize state vector\n",
    "moving_mean = np.mean(data['state'], axis=0)\n",
    "moving_sd = np.std(data['state'], axis=0)"
   ]
  },
  {
   "cell_type": "code",
   "execution_count": 8,
   "id": "filled-hollow",
   "metadata": {},
   "outputs": [],
   "source": [
    "# where to save the results\n",
    "saving_path = os.getcwd() + \"./../Homework/A2/progress_test\"\n",
    "os.makedirs(saving_path, exist_ok=True)\n",
    "\n",
    "buffer_size = 5000\n",
    "test_steps = 1000\n",
    "epochs = 64\n",
    "sample_size = 1000\n",
    "optim_batch_size = 8\n",
    "gamma = 0.9\n",
    "# polyak averaging\n",
    "dqn_delay_rho = 0.99\n",
    "\n",
    "# keys for replay buffer\n",
    "optim_keys = [\"state\", \"action\", \"reward\", \"state_new\", \"not_done\"]\n",
    "\n",
    "# initialize buffer\n",
    "manager.initilize_buffer(buffer_size, optim_keys)\n",
    "\n",
    "# initilize progress aggregator\n",
    "manager.initialize_aggregator(\n",
    "    path=saving_path, saving_after=2, aggregator_keys=[\"loss\", \"time_steps\"]\n",
    ")\n",
    "\n",
    "# Create lr schedule that linearly decays every n'th update\n",
    "every_n_update = 1000\n",
    "decayed_lrs = [0.01]\n",
    "lr_decay = 0.5\n",
    "boundaries = [step for step in range(int(sample_size / optim_batch_size * epochs)) \n",
    "              if step % every_n_update == 0][1:]\n",
    "for i in range(len(boundaries)):\n",
    "    decayed_lrs.append(decayed_lrs[i] * lr_decay)\n",
    "schedule = tf.keras.optimizers.schedules.PiecewiseConstantDecay(boundaries, decayed_lrs)\n",
    "# Initialize optimizer\n",
    "optimizer = tf.keras.optimizers.Adam(learning_rate=schedule)"
   ]
  },
  {
   "cell_type": "code",
   "execution_count": 9,
   "id": "painful-roommate",
   "metadata": {},
   "outputs": [
    {
     "name": "stdout",
     "output_type": "stream",
     "text": [
      "test before training: \n",
      "Episodes finished after a mean of 23.74 timesteps\n"
     ]
    }
   ],
   "source": [
    "# initial testing:\n",
    "print(\"test before training: \")\n",
    "manager.test(test_steps, do_print=True)\n",
    "\n",
    "# get initial agent\n",
    "agent = manager.get_agent()"
   ]
  },
  {
   "cell_type": "code",
   "execution_count": 10,
   "id": "molecular-texas",
   "metadata": {},
   "outputs": [
    {
     "name": "stdout",
     "output_type": "stream",
     "text": [
      "collecting experience..\n",
      "collected data for: dict_keys(['state', 'action', 'reward', 'state_new', 'not_done'])\n",
      "epoch ::: 0  loss ::: 0.1469999998807907   avg env steps ::: 8.3   current lr ::: 0.009999999776482582\n",
      "collecting experience..\n",
      "collected data for: dict_keys(['state', 'action', 'reward', 'state_new', 'not_done'])\n",
      "epoch ::: 1  loss ::: 0.1615999937057495   avg env steps ::: 9.45   current lr ::: 0.009999999776482582\n",
      "collecting experience..\n",
      "collected data for: dict_keys(['state', 'action', 'reward', 'state_new', 'not_done'])\n",
      "epoch ::: 2  loss ::: 0.3824999928474426   avg env steps ::: 8.41   current lr ::: 0.009999999776482582\n",
      "collecting experience..\n",
      "collected data for: dict_keys(['state', 'action', 'reward', 'state_new', 'not_done'])\n",
      "epoch ::: 3  loss ::: 0.4535999894142151   avg env steps ::: 77.32   current lr ::: 0.009999999776482582\n",
      "collecting experience..\n",
      "collected data for: dict_keys(['state', 'action', 'reward', 'state_new', 'not_done'])\n",
      "epoch ::: 4  loss ::: 0.4221000075340271   avg env steps ::: 89.32   current lr ::: 0.009999999776482582\n",
      "collecting experience..\n",
      "collected data for: dict_keys(['state', 'action', 'reward', 'state_new', 'not_done'])\n",
      "epoch ::: 5  loss ::: 0.6169999837875366   avg env steps ::: 72.83   current lr ::: 0.009999999776482582\n",
      "collecting experience..\n",
      "collected data for: dict_keys(['state', 'action', 'reward', 'state_new', 'not_done'])\n",
      "epoch ::: 6  loss ::: 0.30329999327659607   avg env steps ::: 109.43   current lr ::: 0.009999999776482582\n",
      "collecting experience..\n",
      "collected data for: dict_keys(['state', 'action', 'reward', 'state_new', 'not_done'])\n",
      "epoch ::: 7  loss ::: 0.35929998755455017   avg env steps ::: 166.52   current lr ::: 0.009999999776482582\n",
      "collecting experience..\n",
      "collected data for: dict_keys(['state', 'action', 'reward', 'state_new', 'not_done'])\n",
      "epoch ::: 8  loss ::: 0.27309998869895935   avg env steps ::: 147.0   current lr ::: 0.004999999888241291\n",
      "collecting experience..\n",
      "collected data for: dict_keys(['state', 'action', 'reward', 'state_new', 'not_done'])\n",
      "epoch ::: 9  loss ::: 0.24500000476837158   avg env steps ::: 125.31   current lr ::: 0.004999999888241291\n",
      "collecting experience..\n",
      "collected data for: dict_keys(['state', 'action', 'reward', 'state_new', 'not_done'])\n",
      "epoch ::: 10  loss ::: 0.3675999939441681   avg env steps ::: 156.73   current lr ::: 0.004999999888241291\n",
      "collecting experience..\n",
      "collected data for: dict_keys(['state', 'action', 'reward', 'state_new', 'not_done'])\n",
      "epoch ::: 11  loss ::: 0.41100001335144043   avg env steps ::: 127.82   current lr ::: 0.004999999888241291\n",
      "collecting experience..\n",
      "collected data for: dict_keys(['state', 'action', 'reward', 'state_new', 'not_done'])\n",
      "epoch ::: 12  loss ::: 0.45339998602867126   avg env steps ::: 87.38   current lr ::: 0.004999999888241291\n",
      "collecting experience..\n",
      "collected data for: dict_keys(['state', 'action', 'reward', 'state_new', 'not_done'])\n",
      "epoch ::: 13  loss ::: 0.42719998955726624   avg env steps ::: 108.85   current lr ::: 0.004999999888241291\n",
      "collecting experience..\n",
      "collected data for: dict_keys(['state', 'action', 'reward', 'state_new', 'not_done'])\n",
      "epoch ::: 14  loss ::: 0.5860000252723694   avg env steps ::: 481.14   current lr ::: 0.004999999888241291\n",
      "saving model...\n"
     ]
    },
    {
     "data": {
      "image/png": "[encoded data removed]",
      "text/plain": [
       "<Figure size 432x288 with 2 Axes>"
      ]
     },
     "metadata": {
      "needs_background": "light"
     },
     "output_type": "display_data"
    }
   ],
   "source": [
    "step = 0\n",
    "for e in range(epochs):\n",
    "    print(\"collecting experience..\")\n",
    "    # update normalization\n",
    "    manager.kwargs[\"model_kwargs\"][\"normalize_mean\"] = moving_mean\n",
    "    manager.kwargs[\"model_kwargs\"][\"normalize_sd\"] = moving_sd\n",
    "    \n",
    "    # run agents\n",
    "    if e == 0:\n",
    "        data = manager.get_data(total_steps=buffer_size)\n",
    "    else:\n",
    "        data = manager.get_data()\n",
    "\n",
    "    manager.store_in_buffer(data)\n",
    "    \n",
    "    # sample data as tf datasets to optimize on from buffer\n",
    "    sample_dict = manager.sample(sample_size)\n",
    "    print(f\"collected data for: {sample_dict.keys()}\")\n",
    "    # create and batch tf datasets\n",
    "    data_list = list(dict_to_dict_of_datasets(sample_dict, batch_size=optim_batch_size).values())\n",
    "\n",
    "    # get seperate network for delayed DQN\n",
    "    update_QNetwork = QNetwork(**manager.kwargs[\"model_kwargs\"])\n",
    "    delay_Qnetwork = QNetwork(**manager.kwargs[\"model_kwargs\"])\n",
    "    # get current weights for update Q-Network\n",
    "    weights = agent.get_weights()\n",
    "    update_QNetwork.set_weights(weights)\n",
    "    delay_Qnetwork.set_weights(weights)\n",
    "    \n",
    "    losses = []\n",
    "    for i, (state, action, reward, next_state, not_done) in enumerate(zip(*data_list)):\n",
    "        # update moving average\n",
    "        if step < 2000:\n",
    "            moving_mean += 1 / (step + 125) * (np.mean(state, axis=0) - moving_mean)\n",
    "            moving_sd += 1 / (step + 125) * (np.std(state, axis=0) - moving_sd)\n",
    "        \n",
    "        # get Q-values for next state of delayed network\n",
    "        q_values = delay_Qnetwork(next_state)['q_values']\n",
    "        # gompute target\n",
    "        q_target = reward + gamma * tf.reduce_max(q_values, axis=-1).numpy() * not_done.numpy()\n",
    "        \n",
    "        # backpropagate loss\n",
    "        with tf.GradientTape() as tape:\n",
    "            output = update_QNetwork(state, training=True)['q_values']\n",
    "            q_vals_actions_taken = tf.gather(output, action.numpy().astype(np.int32), batch_dims=1)\n",
    "            loss = tf.keras.losses.MSE(q_target, q_vals_actions_taken)\n",
    "        \n",
    "        gradients = tape.gradient(loss, update_QNetwork.trainable_variables)    \n",
    "        optimizer.apply_gradients(zip(gradients, update_QNetwork.trainable_variables))\n",
    "        losses.append(np.mean(loss))\n",
    "        \n",
    "        # update delayed network\n",
    "        old = [dqn_delay_rho * weight for weight in delay_Qnetwork.get_weights()]\n",
    "        new = [(1 - dqn_delay_rho) * weight for weight in update_QNetwork.get_weights()]\n",
    "        delay_Qnetwork.set_weights([old_w + new_w for old_w, new_w in zip(old, new)])\n",
    "        \n",
    "        # exponential temperature decay\n",
    "        manager.kwargs[\"temperature\"] *= temperature_decay\n",
    "        \n",
    "        step += 1\n",
    "    \n",
    "    manager.set_agent(update_QNetwork.get_weights())\n",
    "    agent = manager.get_agent()\n",
    "    \n",
    "    # print progress\n",
    "    time_steps = manager.test(test_steps)\n",
    "    manager.update_aggregator(loss=losses, time_steps=time_steps)\n",
    "    print(\n",
    "        f\"epoch ::: {e}  loss ::: {np.round(np.mean(losses), 4)}   avg env steps ::: {np.mean(time_steps)}   current lr ::: {np.round(optimizer._decayed_lr('float32').numpy(), 4)}\"\n",
    "    )\n",
    "    if np.mean(time_steps) >= 198:\n",
    "            # you can save models\n",
    "            manager.save_model(saving_path, e)\n",
    "            break"
   ]
  },
  {
   "cell_type": "code",
   "execution_count": 11,
   "id": "confirmed-brooklyn",
   "metadata": {},
   "outputs": [
    {
     "name": "stdout",
     "output_type": "stream",
     "text": [
      "loading model...\n",
      "done\n",
      "testing optimized agent\n"
     ]
    },
    {
     "data": {
      "text/plain": [
       "[499, 499, 499, 499, 499, 346, 499, 499, 499, 499]"
      ]
     },
     "execution_count": 11,
     "metadata": {},
     "output_type": "execute_result"
    }
   ],
   "source": [
    "# and load mmodels\n",
    "manager.load_model(saving_path)\n",
    "print(\"done\")\n",
    "print(\"testing optimized agent\")\n",
    "manager.test(test_steps, test_episodes=10, render=True)"
   ]
  },
  {
   "cell_type": "code",
   "execution_count": null,
   "id": "functional-worry",
   "metadata": {},
   "outputs": [],
   "source": []
  }
 ],
 "metadata": {
  "kernelspec": {
   "display_name": "Python 3",
   "language": "python",
   "name": "python3"
  },
  "language_info": {
   "codemirror_mode": {
    "name": "ipython",
    "version": 3
   },
   "file_extension": ".py",
   "mimetype": "text/x-python",
   "name": "python",
   "nbconvert_exporter": "python",
   "pygments_lexer": "ipython3",
   "version": "3.8.5"
  }
 },
 "nbformat": 4,
 "nbformat_minor": 5
}
