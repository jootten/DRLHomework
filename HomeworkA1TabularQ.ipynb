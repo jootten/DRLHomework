{
 "cells": [
  {
   "cell_type": "code",
   "execution_count": 1,
   "metadata": {},
   "outputs": [],
   "source": [
    "import gym\n",
    "import numpy as np\n",
    "import ray\n",
    "from really import SampleManager\n",
    "from gridworlds import GridWorld\n",
    "import random\n",
    "import os"
   ]
  },
  {
   "cell_type": "code",
   "execution_count": 2,
   "metadata": {},
   "outputs": [],
   "source": [
    "class TabularQ(object):\n",
    "\n",
    "    def __init__(self, h, w, action_space):\n",
    "        # Initialize q-table with zeros\n",
    "        self.q_table = np.zeros((h, w, action_space))\n",
    "\n",
    "    def __call__(self, state):\n",
    "        output = {}\n",
    "        output[\"q_values\"] = self.q_table[tuple(state.T.astype(\"int\"))]\n",
    "        return output\n",
    "    \n",
    "    def get_weights(self):\n",
    "        return self.q_table.copy()\n",
    "\n",
    "    def set_weights(self, q_vals):\n",
    "        assert q_vals.shape == self.q_table.shape\n",
    "        self.q_table = q_vals"
   ]
  },
  {
   "cell_type": "code",
   "execution_count": 3,
   "metadata": {},
   "outputs": [
    {
     "name": "stderr",
     "output_type": "stream",
     "text": [
      "2021-02-27 15:47:42,437\tINFO services.py:1172 -- View the Ray dashboard at \u001b[1m\u001b[32mhttp://127.0.0.1:8266\u001b[39m\u001b[22m\n"
     ]
    },
    {
     "data": {
      "text/plain": [
       "{'node_ip_address': '192.168.178.21',\n",
       " 'raylet_ip_address': '192.168.178.21',\n",
       " 'redis_address': '192.168.178.21:42921',\n",
       " 'object_store_address': '/tmp/ray/session_2021-02-27_15-47-41_769502_232917/sockets/plasma_store',\n",
       " 'raylet_socket_name': '/tmp/ray/session_2021-02-27_15-47-41_769502_232917/sockets/raylet',\n",
       " 'webui_url': '127.0.0.1:8266',\n",
       " 'session_dir': '/tmp/ray/session_2021-02-27_15-47-41_769502_232917',\n",
       " 'metrics_export_port': 45779,\n",
       " 'node_id': '50ac46ed8dcf9fee4922aa3827158cb2e7f8300ccb3315e9ad002a6c'}"
      ]
     },
     "execution_count": 3,
     "metadata": {},
     "output_type": "execute_result"
    }
   ],
   "source": [
    "ray.init(log_to_driver=False)"
   ]
  },
  {
   "cell_type": "code",
   "execution_count": 7,
   "metadata": {},
   "outputs": [
    {
     "name": "stdout",
     "output_type": "stream",
     "text": [
      "iteration: 0, storing results of 1 runners\n"
     ]
    }
   ],
   "source": [
    "action_dict = {0: \"UP\", 1: \"RIGHT\", 2: \"DOWN\", 3: \"LEFT\"}\n",
    "\n",
    "env_kwargs = {\n",
    "    \"height\": 3,\n",
    "    \"width\": 4,\n",
    "    \"action_dict\": action_dict,\n",
    "    \"start_position\": (2, 0),\n",
    "    \"reward_position\": (0, 3),\n",
    "}\n",
    "\n",
    "# you can also create your environment like this after installation: env = gym.make('gridworld-v0')\n",
    "env = GridWorld(**env_kwargs)\n",
    "\n",
    "model_kwargs = {\"h\": env.height, \"w\": env.width, \"action_space\": 4}\n",
    "\n",
    "kwargs = {\n",
    "    \"model\": TabularQ,\n",
    "    \"environment\": GridWorld,\n",
    "    \"num_parallel\": 2,\n",
    "    \"total_steps\": 5,\n",
    "    \"model_kwargs\": model_kwargs\n",
    "\n",
    "    # and more\n",
    "}\n",
    "\n",
    "# initilize\n",
    "manager = SampleManager(**kwargs)\n",
    "# test\n",
    "manager.get_data(do_print=True)\n",
    "\n",
    "# where to save the results\n",
    "saving_path = os.getcwd() + \"./../Homework/A1/progress_test\"\n",
    "os.makedirs(saving_path, exist_ok=True)\n",
    "\n",
    "buffer_size = 5000\n",
    "test_steps = 1000\n",
    "epochs = 12\n",
    "sample_size = 1000\n",
    "optim_batch_size = 8\n",
    "alpha = 0.2\n",
    "gamma = 0.85\n",
    "\n",
    "# keys for replay buffer\n",
    "optim_keys = [\"state\", \"action\", \"reward\", \"state_new\"]\n",
    "\n",
    "# initialize buffer\n",
    "manager.initilize_buffer(buffer_size, optim_keys)\n",
    "\n",
    "# initilize progress aggregator\n",
    "manager.initialize_aggregator(\n",
    "    path=saving_path, saving_after=2, aggregator_keys=[\"td_error\", \"time_steps\"]\n",
    ")"
   ]
  },
  {
   "cell_type": "code",
   "execution_count": 8,
   "metadata": {},
   "outputs": [
    {
     "name": "stdout",
     "output_type": "stream",
     "text": [
      "test before training: \n",
      "Episodes finished after a mean of 38.77 timesteps\n"
     ]
    }
   ],
   "source": [
    "# initial testing:\n",
    "print(\"test before training: \")\n",
    "manager.test(test_steps, do_print=True)\n",
    "\n",
    "# get initial agent\n",
    "agent = manager.get_agent()"
   ]
  },
  {
   "cell_type": "code",
   "execution_count": 9,
   "metadata": {},
   "outputs": [
    {
     "name": "stdout",
     "output_type": "stream",
     "text": [
      "collecting experience..\n",
      "iteration: 0, storing results of 1 runners\n",
      "collected data for: dict_keys(['state', 'action', 'reward', 'state_new'])\n",
      "epoch ::: 0  td watkins error ::: 0.7468286150039107   avg env steps ::: 45.63\n",
      "collecting experience..\n",
      "iteration: 0, storing results of 1 runners\n",
      "collected data for: dict_keys(['state', 'action', 'reward', 'state_new'])\n",
      "epoch ::: 1  td watkins error ::: 0.12825702597684654   avg env steps ::: 4.0\n",
      "collecting experience..\n",
      "iteration: 0, storing results of 1 runners\n",
      "collected data for: dict_keys(['state', 'action', 'reward', 'state_new'])\n",
      "epoch ::: 2  td watkins error ::: 0.008068470850770407   avg env steps ::: 4.0\n",
      "collecting experience..\n",
      "iteration: 0, storing results of 1 runners\n",
      "collected data for: dict_keys(['state', 'action', 'reward', 'state_new'])\n",
      "epoch ::: 3  td watkins error ::: 0.00014299089109357733   avg env steps ::: 4.0\n",
      "collecting experience..\n",
      "iteration: 0, storing results of 1 runners\n",
      "collected data for: dict_keys(['state', 'action', 'reward', 'state_new'])\n",
      "epoch ::: 4  td watkins error ::: 4.6043083108391335e-06   avg env steps ::: 4.0\n",
      "collecting experience..\n",
      "iteration: 0, storing results of 1 runners\n",
      "collected data for: dict_keys(['state', 'action', 'reward', 'state_new'])\n",
      "epoch ::: 5  td watkins error ::: 9.841203571081536e-08   avg env steps ::: 4.0\n",
      "collecting experience..\n",
      "iteration: 0, storing results of 1 runners\n",
      "collected data for: dict_keys(['state', 'action', 'reward', 'state_new'])\n",
      "epoch ::: 6  td watkins error ::: 4.08951517982814e-09   avg env steps ::: 4.0\n",
      "collecting experience..\n",
      "iteration: 0, storing results of 1 runners\n",
      "collected data for: dict_keys(['state', 'action', 'reward', 'state_new'])\n",
      "epoch ::: 7  td watkins error ::: 3.846601588364251e-10   avg env steps ::: 4.0\n",
      "collecting experience..\n",
      "iteration: 0, storing results of 1 runners\n",
      "collected data for: dict_keys(['state', 'action', 'reward', 'state_new'])\n",
      "epoch ::: 8  td watkins error ::: 2.1722295961978945e-11   avg env steps ::: 4.0\n",
      "collecting experience..\n",
      "iteration: 0, storing results of 1 runners\n",
      "collected data for: dict_keys(['state', 'action', 'reward', 'state_new'])\n",
      "epoch ::: 9  td watkins error ::: 1.0235239322753387e-12   avg env steps ::: 4.0\n",
      "collecting experience..\n",
      "iteration: 0, storing results of 1 runners\n",
      "collected data for: dict_keys(['state', 'action', 'reward', 'state_new'])\n",
      "epoch ::: 10  td watkins error ::: 2.7758684240097863e-14   avg env steps ::: 4.0\n",
      "collecting experience..\n",
      "iteration: 0, storing results of 1 runners\n",
      "collected data for: dict_keys(['state', 'action', 'reward', 'state_new'])\n",
      "epoch ::: 11  td watkins error ::: 2.3794299863766353e-15   avg env steps ::: 4.0\n"
     ]
    },
    {
     "data": {
      "image/png": "[encoded data removed]",
      "text/plain": [
       "<Figure size 432x288 with 2 Axes>"
      ]
     },
     "metadata": {
      "needs_background": "light"
     },
     "output_type": "display_data"
    }
   ],
   "source": [
    "for e in range(epochs):\n",
    "    print(\"collecting experience..\")\n",
    "    # Run agents\n",
    "    data = manager.get_data(do_print=True)\n",
    "    # avoid storing unnecessary data in buffer\n",
    "    data = {key:value for key,value in data.items() if key in optim_keys}\n",
    "    manager.store_in_buffer(data)\n",
    "    \n",
    "    # sample data as tf datasets to optimize on from buffer\n",
    "    sample_dict = manager.buffer.sample_dictionary_of_datasets(sample_size) # Playing around with the framework\n",
    "    print(f\"collected data for: {sample_dict.keys()}\")\n",
    "    data_list = [dataset.batch(optim_batch_size) for dataset in sample_dict.values()]\n",
    "    # get current q-values\n",
    "    q_table = agent.get_weights().copy()\n",
    "    \n",
    "    td_errors = []\n",
    "    for state, action, reward, next_state in zip(*data_list):\n",
    "        # get tuple of index lists for state and actions dimensions\n",
    "        state_action_pairs = tuple(np.concatenate((state, action[:,np.newaxis]), axis=1).astype(\"int\").T.tolist())\n",
    "        # get max q value of next state\n",
    "        next_max_q_action = np.max(q_table[tuple(np.array(next_state, dtype=\"int\").T.tolist())], axis=1)\n",
    "        # compute watkins td error\n",
    "        td_watkins_error = reward.numpy() + gamma * next_max_q_action - q_table[state_action_pairs]\n",
    "        # update q-table\n",
    "        q_table[state_action_pairs] += alpha * td_watkins_error       \n",
    "        td_errors.append(np.mean(td_watkins_error))\n",
    "        \n",
    "    # print progress\n",
    "    time_steps = manager.test(test_steps)\n",
    "    manager.update_aggregator(td_error=td_errors, time_steps=time_steps)\n",
    "    print(\n",
    "        f\"epoch ::: {e}  td watkins error ::: {np.mean(td_errors)}   avg env steps ::: {np.mean(time_steps)}\"\n",
    "    )\n",
    "        \n",
    "    # set new weights\n",
    "    manager.set_agent(q_table)\n",
    "    # get new weights\n",
    "    agent = manager.get_agent()"
   ]
  },
  {
   "cell_type": "code",
   "execution_count": 116,
   "metadata": {},
   "outputs": [
    {
     "name": "stdout",
     "output_type": "stream",
     "text": [
      "Episodes finished after a mean of 4.0 timesteps\n",
      "Episodes finished after a mean of 2.0 accumulated reward\n"
     ]
    },
    {
     "data": {
      "text/plain": [
       "([4, 4, 4, 4, 4, 4, 4, 4, 4, 4],\n",
       " [2.0, 2.0, 2.0, 2.0, 2.0, 2.0, 2.0, 2.0, 2.0, 2.0])"
      ]
     },
     "execution_count": 116,
     "metadata": {},
     "output_type": "execute_result"
    }
   ],
   "source": [
    "manager.test(\n",
    "       max_steps=100,\n",
    "        test_episodes=10,\n",
    "        render=True,\n",
    "        do_print=True,\n",
    "        evaluation_measure=\"time_and_reward\",\n",
    "    )"
   ]
  }
 ],
 "metadata": {
  "kernelspec": {
   "display_name": "Python 3",
   "language": "python",
   "name": "python3"
  },
  "language_info": {
   "codemirror_mode": {
    "name": "ipython",
    "version": 3
   },
   "file_extension": ".py",
   "mimetype": "text/x-python",
   "name": "python",
   "nbconvert_exporter": "python",
   "pygments_lexer": "ipython3",
   "version": "3.8.5"
  }
 },
 "nbformat": 4,
 "nbformat_minor": 4
}
